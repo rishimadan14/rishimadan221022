{
  "nbformat": 4,
  "nbformat_minor": 0,
  "metadata": {
    "colab": {
      "provenance": []
    },
    "kernelspec": {
      "name": "python3",
      "display_name": "Python 3"
    },
    "language_info": {
      "name": "python"
    },
    "accelerator": "GPU",
    "gpuClass": "standard"
  },
  "cells": [
    {
      "cell_type": "code",
      "execution_count": null,
      "metadata": {
        "colab": {
          "base_uri": "https://localhost:8080/"
        },
        "id": "2Prhsu-H3CYr",
        "outputId": "55975da3-2c68-4124-b75f-0a061f333896"
      },
      "outputs": [
        {
          "output_type": "stream",
          "name": "stdout",
          "text": [
            "/content\n"
          ]
        }
      ],
      "source": [
        "import tensorflow as tf\n",
        "from tensorflow.keras.layers import Dense, Flatten, Conv2D, MaxPooling2D, Dropout, BatchNormalization\n",
        "from tensorflow.keras.models import Sequential\n",
        "import h5py\n",
        "import numpy as np\n",
        "from tensorflow.keras.preprocessing.image import ImageDataGenerator, img_to_array, load_img, array_to_img\n",
        "import os\n",
        "import pandas as pd\n",
        "import matplotlib.pyplot as plt\n",
        "print(os.getcwd())\n"
      ]
    },
    {
      "cell_type": "code",
      "source": [
        "from google.colab import drive\n",
        "drive.mount('/content/drive')"
      ],
      "metadata": {
        "colab": {
          "base_uri": "https://localhost:8080/"
        },
        "id": "8KIi2WSP3F53",
        "outputId": "a70d3367-6db5-45e7-f0a7-2ec00ca52658"
      },
      "execution_count": null,
      "outputs": [
        {
          "output_type": "stream",
          "name": "stdout",
          "text": [
            "Mounted at /content/drive\n"
          ]
        }
      ]
    },
    {
      "cell_type": "code",
      "source": [
        "IMG_WIDTH=256\n",
        "IMG_HEIGHT=256\n",
        "batch_size=32\n",
        "train_dir = r'drive/MyDrive/Colab Notebooks/minor_dataset/train'\n",
        "val_dir  = r'drive/MyDrive/Colab Notebooks/minor_dataset/test'\n",
        "image_gen_train = ImageDataGenerator(rescale=1./255, \n",
        "                                    zoom_range=0.2, \n",
        "                                    rotation_range=65,\n",
        "                                    shear_range=0.09,\n",
        "                                    horizontal_flip=True,\n",
        "                                    vertical_flip=True)\n",
        "image_gen_val = ImageDataGenerator(rescale=1./255)\n"
      ],
      "metadata": {
        "id": "f-Of2pxm3lvE"
      },
      "execution_count": null,
      "outputs": []
    },
    {
      "cell_type": "code",
      "source": [
        "\n",
        "train_data_gen = image_gen_train.flow_from_directory(batch_size=batch_size,directory=train_dir,shuffle=True,target_size=(IMG_HEIGHT, IMG_WIDTH),class_mode='sparse')\n",
        "val_data_gen = image_gen_val.flow_from_directory(batch_size=batch_size,directory=val_dir,target_size=(IMG_HEIGHT, IMG_WIDTH),class_mode='sparse')"
      ],
      "metadata": {
        "colab": {
          "base_uri": "https://localhost:8080/"
        },
        "id": "H-Aah0TJ3vMj",
        "outputId": "3b83e7b3-b62d-48a0-d8ea-b8b950b2bdba"
      },
      "execution_count": null,
      "outputs": [
        {
          "output_type": "stream",
          "name": "stdout",
          "text": [
            "Found 320 images belonging to 2 classes.\n",
            "Found 80 images belonging to 2 classes.\n"
          ]
        }
      ]
    },
    {
      "cell_type": "code",
      "source": [
        "print(train_data_gen.class_indices)"
      ],
      "metadata": {
        "colab": {
          "base_uri": "https://localhost:8080/"
        },
        "id": "mbJT4eqA3w19",
        "outputId": "4e56ca5c-62cf-4336-805d-8912979980e7"
      },
      "execution_count": null,
      "outputs": [
        {
          "output_type": "stream",
          "name": "stdout",
          "text": [
            "{'bad': 0, 'good': 1}\n"
          ]
        }
      ]
    },
    {
      "cell_type": "code",
      "source": [
        "model = Sequential()\n",
        "\n",
        "model.add(tf.keras.layers.InputLayer(input_shape=(IMG_HEIGHT, IMG_WIDTH, 3)))\n",
        "\n",
        "model.add(Conv2D(filters=64, kernel_size=3, strides=(2, 2), activation='relu'))\n",
        "model.add(BatchNormalization())\n",
        "model.add(MaxPooling2D(pool_size=(2, 2)))\n",
        "\n",
        "model.add(Conv2D(filters=128, kernel_size=4, strides=(2, 2), activation='relu'))\n",
        "model.add(BatchNormalization())\n",
        "model.add(MaxPooling2D(pool_size=(2, 2)))\n",
        "\n",
        "model.add(Conv2D(filters=256, kernel_size=4, strides=(2, 2), activation='relu'))\n",
        "model.add(BatchNormalization())\n",
        "model.add(MaxPooling2D(pool_size=(2, 2)))\n",
        "\n",
        "model.add(Flatten())\n",
        "model.add(Dense(128, activation='sigmoid'))\n",
        "\n",
        "model.add(Dense(2, activation='softmax'))\n",
        "\n",
        "model.summary()"
      ],
      "metadata": {
        "colab": {
          "base_uri": "https://localhost:8080/"
        },
        "id": "9WTnxPyG3yXe",
        "outputId": "6332d7fe-1b24-4676-d4bd-9a3a5bbe6b8c"
      },
      "execution_count": null,
      "outputs": [
        {
          "output_type": "stream",
          "name": "stdout",
          "text": [
            "Model: \"sequential\"\n",
            "_________________________________________________________________\n",
            " Layer (type)                Output Shape              Param #   \n",
            "=================================================================\n",
            " conv2d (Conv2D)             (None, 127, 127, 64)      1792      \n",
            "                                                                 \n",
            " batch_normalization (BatchN  (None, 127, 127, 64)     256       \n",
            " ormalization)                                                   \n",
            "                                                                 \n",
            " max_pooling2d (MaxPooling2D  (None, 63, 63, 64)       0         \n",
            " )                                                               \n",
            "                                                                 \n",
            " conv2d_1 (Conv2D)           (None, 30, 30, 128)       131200    \n",
            "                                                                 \n",
            " batch_normalization_1 (Batc  (None, 30, 30, 128)      512       \n",
            " hNormalization)                                                 \n",
            "                                                                 \n",
            " max_pooling2d_1 (MaxPooling  (None, 15, 15, 128)      0         \n",
            " 2D)                                                             \n",
            "                                                                 \n",
            " conv2d_2 (Conv2D)           (None, 6, 6, 256)         524544    \n",
            "                                                                 \n",
            " batch_normalization_2 (Batc  (None, 6, 6, 256)        1024      \n",
            " hNormalization)                                                 \n",
            "                                                                 \n",
            " max_pooling2d_2 (MaxPooling  (None, 3, 3, 256)        0         \n",
            " 2D)                                                             \n",
            "                                                                 \n",
            " flatten (Flatten)           (None, 2304)              0         \n",
            "                                                                 \n",
            " dense (Dense)               (None, 128)               295040    \n",
            "                                                                 \n",
            " dense_1 (Dense)             (None, 2)                 258       \n",
            "                                                                 \n",
            "=================================================================\n",
            "Total params: 954,626\n",
            "Trainable params: 953,730\n",
            "Non-trainable params: 896\n",
            "_________________________________________________________________\n"
          ]
        }
      ]
    },
    {
      "cell_type": "code",
      "source": [
        "model.compile(loss='sparse_categorical_crossentropy', optimizer=tf.keras.optimizers.Adam(\n",
        "    learning_rate=0.01,\n",
        "    beta_1=0.9,\n",
        "    beta_2=0.999,\n",
        "    epsilon=1e-07,\n",
        "), metrics=['accuracy'])\n",
        "checkpoint_filepath = './cnn_2/checkpoint'\n",
        "model_checkpoint_callback = tf.keras.callbacks.ModelCheckpoint(\n",
        "    filepath=checkpoint_filepath,\n",
        "    verbose=1,\n",
        "    save_weights_only=True,\n",
        "    monitor='val_accuracy',\n",
        "    mode='max',\n",
        "    save_best_only=True)\n",
        "    "
      ],
      "metadata": {
        "id": "vKhlE_mz3znS"
      },
      "execution_count": null,
      "outputs": []
    },
    {
      "cell_type": "code",
      "source": [
        "with tf.device('/GPU:0'):\n",
        "    # model.load_weights(checkpoint_filepath)\n",
        "    history = model.fit(train_data_gen, epochs=20, batch_size=32, validation_data=val_data_gen,  callbacks=[model_checkpoint_callback])"
      ],
      "metadata": {
        "colab": {
          "base_uri": "https://localhost:8080/"
        },
        "id": "8zxl8Bry31Wu",
        "outputId": "4dec210c-a47b-45b8-bd5d-c3ed8f6e6b67"
      },
      "execution_count": null,
      "outputs": [
        {
          "output_type": "stream",
          "name": "stdout",
          "text": [
            "Epoch 1/20\n",
            "10/10 [==============================] - ETA: 0s - loss: 2.1113 - accuracy: 0.5063\n",
            "Epoch 1: val_accuracy improved from -inf to 0.50000, saving model to ./cnn_2/checkpoint\n",
            "10/10 [==============================] - 136s 13s/step - loss: 2.1113 - accuracy: 0.5063 - val_loss: 0.7021 - val_accuracy: 0.5000\n",
            "Epoch 2/20\n",
            "10/10 [==============================] - ETA: 0s - loss: 0.8283 - accuracy: 0.5000\n",
            "Epoch 2: val_accuracy did not improve from 0.50000\n",
            "10/10 [==============================] - 9s 946ms/step - loss: 0.8283 - accuracy: 0.5000 - val_loss: 0.6943 - val_accuracy: 0.5000\n",
            "Epoch 3/20\n",
            "10/10 [==============================] - ETA: 0s - loss: 0.3673 - accuracy: 0.8625\n",
            "Epoch 3: val_accuracy did not improve from 0.50000\n",
            "10/10 [==============================] - 9s 939ms/step - loss: 0.3673 - accuracy: 0.8625 - val_loss: 1.6526 - val_accuracy: 0.5000\n",
            "Epoch 4/20\n",
            "10/10 [==============================] - ETA: 0s - loss: 0.2291 - accuracy: 0.9344\n",
            "Epoch 4: val_accuracy did not improve from 0.50000\n",
            "10/10 [==============================] - 9s 944ms/step - loss: 0.2291 - accuracy: 0.9344 - val_loss: 2.1349 - val_accuracy: 0.5000\n",
            "Epoch 5/20\n",
            "10/10 [==============================] - ETA: 0s - loss: 0.2319 - accuracy: 0.9219\n",
            "Epoch 5: val_accuracy did not improve from 0.50000\n",
            "10/10 [==============================] - 10s 960ms/step - loss: 0.2319 - accuracy: 0.9219 - val_loss: 2.0778 - val_accuracy: 0.5000\n",
            "Epoch 6/20\n",
            "10/10 [==============================] - ETA: 0s - loss: 0.2169 - accuracy: 0.9375\n",
            "Epoch 6: val_accuracy did not improve from 0.50000\n",
            "10/10 [==============================] - 9s 943ms/step - loss: 0.2169 - accuracy: 0.9375 - val_loss: 1.7950 - val_accuracy: 0.5000\n",
            "Epoch 7/20\n",
            "10/10 [==============================] - ETA: 0s - loss: 0.2073 - accuracy: 0.9344\n",
            "Epoch 7: val_accuracy improved from 0.50000 to 0.58750, saving model to ./cnn_2/checkpoint\n",
            "10/10 [==============================] - 9s 957ms/step - loss: 0.2073 - accuracy: 0.9344 - val_loss: 1.2435 - val_accuracy: 0.5875\n",
            "Epoch 8/20\n",
            "10/10 [==============================] - ETA: 0s - loss: 0.1793 - accuracy: 0.9375\n",
            "Epoch 8: val_accuracy did not improve from 0.58750\n",
            "10/10 [==============================] - 9s 948ms/step - loss: 0.1793 - accuracy: 0.9375 - val_loss: 1.7593 - val_accuracy: 0.5000\n",
            "Epoch 9/20\n",
            "10/10 [==============================] - ETA: 0s - loss: 0.1413 - accuracy: 0.9563\n",
            "Epoch 9: val_accuracy did not improve from 0.58750\n",
            "10/10 [==============================] - 11s 1s/step - loss: 0.1413 - accuracy: 0.9563 - val_loss: 2.1655 - val_accuracy: 0.5000\n",
            "Epoch 10/20\n",
            "10/10 [==============================] - ETA: 0s - loss: 0.1092 - accuracy: 0.9688\n",
            "Epoch 10: val_accuracy did not improve from 0.58750\n",
            "10/10 [==============================] - 9s 946ms/step - loss: 0.1092 - accuracy: 0.9688 - val_loss: 2.2573 - val_accuracy: 0.5000\n",
            "Epoch 11/20\n",
            "10/10 [==============================] - ETA: 0s - loss: 0.1018 - accuracy: 0.9656\n",
            "Epoch 11: val_accuracy did not improve from 0.58750\n",
            "10/10 [==============================] - 9s 946ms/step - loss: 0.1018 - accuracy: 0.9656 - val_loss: 2.3801 - val_accuracy: 0.5000\n",
            "Epoch 12/20\n",
            "10/10 [==============================] - ETA: 0s - loss: 0.1033 - accuracy: 0.9594\n",
            "Epoch 12: val_accuracy did not improve from 0.58750\n",
            "10/10 [==============================] - 9s 944ms/step - loss: 0.1033 - accuracy: 0.9594 - val_loss: 2.0703 - val_accuracy: 0.5000\n",
            "Epoch 13/20\n",
            "10/10 [==============================] - ETA: 0s - loss: 0.0901 - accuracy: 0.9719\n",
            "Epoch 13: val_accuracy did not improve from 0.58750\n",
            "10/10 [==============================] - 9s 941ms/step - loss: 0.0901 - accuracy: 0.9719 - val_loss: 2.3616 - val_accuracy: 0.5000\n",
            "Epoch 14/20\n",
            "10/10 [==============================] - ETA: 0s - loss: 0.1057 - accuracy: 0.9625\n",
            "Epoch 14: val_accuracy did not improve from 0.58750\n",
            "10/10 [==============================] - 9s 954ms/step - loss: 0.1057 - accuracy: 0.9625 - val_loss: 2.5636 - val_accuracy: 0.5000\n",
            "Epoch 15/20\n",
            "10/10 [==============================] - ETA: 0s - loss: 0.0928 - accuracy: 0.9625\n",
            "Epoch 15: val_accuracy did not improve from 0.58750\n",
            "10/10 [==============================] - 9s 946ms/step - loss: 0.0928 - accuracy: 0.9625 - val_loss: 2.1115 - val_accuracy: 0.5000\n",
            "Epoch 16/20\n",
            "10/10 [==============================] - ETA: 0s - loss: 0.0790 - accuracy: 0.9688\n",
            "Epoch 16: val_accuracy did not improve from 0.58750\n",
            "10/10 [==============================] - 9s 942ms/step - loss: 0.0790 - accuracy: 0.9688 - val_loss: 1.9461 - val_accuracy: 0.5250\n",
            "Epoch 17/20\n",
            "10/10 [==============================] - ETA: 0s - loss: 0.0605 - accuracy: 0.9750\n",
            "Epoch 17: val_accuracy did not improve from 0.58750\n",
            "10/10 [==============================] - 9s 955ms/step - loss: 0.0605 - accuracy: 0.9750 - val_loss: 1.5542 - val_accuracy: 0.5750\n",
            "Epoch 18/20\n",
            "10/10 [==============================] - ETA: 0s - loss: 0.0859 - accuracy: 0.9688\n",
            "Epoch 18: val_accuracy improved from 0.58750 to 0.72500, saving model to ./cnn_2/checkpoint\n",
            "10/10 [==============================] - 10s 964ms/step - loss: 0.0859 - accuracy: 0.9688 - val_loss: 0.5541 - val_accuracy: 0.7250\n",
            "Epoch 19/20\n",
            "10/10 [==============================] - ETA: 0s - loss: 0.0602 - accuracy: 0.9812\n",
            "Epoch 19: val_accuracy improved from 0.72500 to 0.80000, saving model to ./cnn_2/checkpoint\n",
            "10/10 [==============================] - 9s 943ms/step - loss: 0.0602 - accuracy: 0.9812 - val_loss: 0.3843 - val_accuracy: 0.8000\n",
            "Epoch 20/20\n",
            "10/10 [==============================] - ETA: 0s - loss: 0.0533 - accuracy: 0.9812\n",
            "Epoch 20: val_accuracy improved from 0.80000 to 0.86250, saving model to ./cnn_2/checkpoint\n",
            "10/10 [==============================] - 9s 949ms/step - loss: 0.0533 - accuracy: 0.9812 - val_loss: 0.2791 - val_accuracy: 0.8625\n"
          ]
        }
      ]
    },
    {
      "cell_type": "code",
      "source": [
        "model.load_weights(checkpoint_filepath)\n",
        "model.evaluate(train_data_gen)\n",
        "model.evaluate(val_data_gen)"
      ],
      "metadata": {
        "colab": {
          "base_uri": "https://localhost:8080/"
        },
        "id": "Zp9Y8_TR33UR",
        "outputId": "6fb9b988-277c-4481-f1b4-573b763bd5b9"
      },
      "execution_count": null,
      "outputs": [
        {
          "output_type": "stream",
          "name": "stdout",
          "text": [
            "10/10 [==============================] - 8s 800ms/step - loss: 0.1739 - accuracy: 0.9312\n",
            "3/3 [==============================] - 1s 326ms/step - loss: 0.2791 - accuracy: 0.8625\n"
          ]
        },
        {
          "output_type": "execute_result",
          "data": {
            "text/plain": [
              "[0.2790880799293518, 0.862500011920929]"
            ]
          },
          "metadata": {},
          "execution_count": 9
        }
      ]
    },
    {
      "cell_type": "code",
      "source": [
        "print(history.history.keys())\n",
        "plt.plot(history.history['accuracy'])\n",
        "plt.plot(history.history['val_accuracy'])\n",
        "plt.title('model accuracy')\n",
        "plt.ylabel('accuracy')\n",
        "plt.xlabel('epoch')\n",
        "plt.legend(['train', 'validation'], loc='upper left')\n",
        "plt.show()\n",
        "# \"Loss\"\n",
        "plt.plot(history.history['loss'])\n",
        "plt.plot(history.history['val_loss'])\n",
        "plt.title('model loss')\n",
        "plt.ylabel('loss')\n",
        "plt.xlabel('epoch')\n",
        "plt.legend(['train', 'validation'], loc='upper left')\n",
        "plt.show()\n"
      ],
      "metadata": {
        "colab": {
          "base_uri": "https://localhost:8080/",
          "height": 590
        },
        "id": "3-ojIJBl38Hn",
        "outputId": "25d0fd8a-ee3e-4ba8-d80d-029d52ec5a3c"
      },
      "execution_count": null,
      "outputs": [
        {
          "output_type": "stream",
          "name": "stdout",
          "text": [
            "dict_keys(['loss', 'accuracy', 'val_loss', 'val_accuracy'])\n"
          ]
        },
        {
          "output_type": "display_data",
          "data": {
            "text/plain": [
              "<Figure size 432x288 with 1 Axes>"
            ],
            "image/png": "[encoded data removed]"
          },
          "metadata": {
            "needs_background": "light"
          }
        },
        {
          "output_type": "display_data",
          "data": {
            "text/plain": [
              "<Figure size 432x288 with 1 Axes>"
            ],
            "image/png": "[encoded data removed]"
          },
          "metadata": {
            "needs_background": "light"
          }
        }
      ]
    },
    {
      "cell_type": "code",
      "source": [
        "model.save(\"model_cnn_2.h5\")"
      ],
      "metadata": {
        "id": "kG1zgh6X5eGc"
      },
      "execution_count": null,
      "outputs": []
    },
    {
      "cell_type": "code",
      "source": [
        "! pip install streamlit -q"
      ],
      "metadata": {
        "colab": {
          "base_uri": "https://localhost:8080/"
        },
        "id": "rqe2X1LDLEO2",
        "outputId": "4d4fa12c-f75e-4164-f140-d5ff0ac287b7"
      },
      "execution_count": null,
      "outputs": [
        {
          "output_type": "stream",
          "name": "stdout",
          "text": [
            "\u001b[K     |████████████████████████████████| 10.3 MB 4.2 MB/s \n",
            "\u001b[K     |████████████████████████████████| 182 kB 61.8 MB/s \n",
            "\u001b[K     |████████████████████████████████| 4.7 MB 44.9 MB/s \n",
            "\u001b[K     |████████████████████████████████| 237 kB 70.0 MB/s \n",
            "\u001b[K     |████████████████████████████████| 164 kB 68.5 MB/s \n",
            "\u001b[K     |████████████████████████████████| 78 kB 8.1 MB/s \n",
            "\u001b[K     |████████████████████████████████| 62 kB 1.4 MB/s \n",
            "\u001b[K     |████████████████████████████████| 51 kB 8.3 MB/s \n",
            "\u001b[?25h  Building wheel for validators (setup.py) ... \u001b[?25l\u001b[?25hdone\n"
          ]
        }
      ]
    },
    {
      "cell_type": "code",
      "source": [
        "%%writefile app.py\n",
        "import streamlit as st\n",
        "import tensorflow as tf\n",
        "import streamlit as st\n",
        "st.set_option('deprecation.showfileUploaderEncoding', False)\n",
        "\n",
        "@st.cache(allow_output_mutation=True)\n",
        "def load_model():\n",
        "  model=tf.keras.models.load_model('/content/model_cnn_2.h5')\n",
        "  return model\n",
        "with st.spinner('Model is being loaded..'):\n",
        "  model=load_model()\n",
        "\n",
        "st.write(\"\"\"\n",
        "         # Fooq Quality Evaluation\n",
        "         \"\"\"\n",
        "         )\n",
        "\n",
        "file = st.file_uploader(\"Please upload scan file\", type=[\"jpg\", \"png\"])\n",
        "import cv2\n",
        "from PIL import Image, ImageOps\n",
        "import numpy as np\n",
        "\n",
        "def import_and_predict(image_data, model):\n",
        "    \n",
        "        size = (256,256)    \n",
        "        image = ImageOps.fit(image_data, size, Image.ANTIALIAS)\n",
        "        image = np.asarray(image)\n",
        "        img = cv2.cvtColor(image, cv2.COLOR_BGR2RGB)\n",
        "        img_reshape = img[np.newaxis,...]\n",
        "    \n",
        "        prediction = model.predict(img_reshape)\n",
        "        \n",
        "        return prediction\n",
        "if file is None:\n",
        "    st.text(\"Please upload an image file\")\n",
        "else:\n",
        "    image = Image.open(file)\n",
        "    st.image(image, use_column_width=True)\n",
        "    predictions = import_and_predict(image, model)\n",
        "    score = tf.nn.softmax(predictions[0])\n",
        "    st.write(prediction)\n",
        "    st.write(score)\n",
        "    print(\n",
        "    \"This image most likely belongs to {} with a {:.2f} percent confidence.\"\n",
        "    .format(class_names[np.argmax(score)], 100 * np.max(score))\n",
        ")"
      ],
      "metadata": {
        "id": "1AaT8mlj86C2",
        "colab": {
          "base_uri": "https://localhost:8080/"
        },
        "outputId": "bf8954ee-31e4-4d91-be1f-22fa2b878732"
      },
      "execution_count": null,
      "outputs": [
        {
          "output_type": "stream",
          "name": "stdout",
          "text": [
            "Overwriting app.py\n"
          ]
        }
      ]
    },
    {
      "cell_type": "code",
      "source": [
        "!wget https://bin.equinox.io/c/4VmDzA7iaHb/ngrok-stable-linux-amd64.zip"
      ],
      "metadata": {
        "colab": {
          "base_uri": "https://localhost:8080/"
        },
        "id": "dJpLtuwQN9kR",
        "outputId": "210d8d97-b59d-4973-bee9-9f7589c31e50"
      },
      "execution_count": null,
      "outputs": [
        {
          "output_type": "stream",
          "name": "stdout",
          "text": [
            "--2022-11-29 07:09:21--  https://bin.equinox.io/c/4VmDzA7iaHb/ngrok-stable-linux-amd64.zip\n",
            "Resolving bin.equinox.io (bin.equinox.io)... 18.205.222.128, 54.161.241.46, 54.237.133.81, ...\n",
            "Connecting to bin.equinox.io (bin.equinox.io)|18.205.222.128|:443... connected.\n",
            "HTTP request sent, awaiting response... 200 OK\n",
            "Length: 13832437 (13M) [application/octet-stream]\n",
            "Saving to: ‘ngrok-stable-linux-amd64.zip’\n",
            "\n",
            "ngrok-stable-linux- 100%[===================>]  13.19M  25.8MB/s    in 0.5s    \n",
            "\n",
            "2022-11-29 07:09:22 (25.8 MB/s) - ‘ngrok-stable-linux-amd64.zip’ saved [13832437/13832437]\n",
            "\n"
          ]
        }
      ]
    },
    {
      "cell_type": "code",
      "source": [
        "!unzip ngrok-stable-linux-amd64.zip"
      ],
      "metadata": {
        "colab": {
          "base_uri": "https://localhost:8080/"
        },
        "id": "13Ngc8xIOAFi",
        "outputId": "64dfc373-3a05-4932-9951-4467e5162b73"
      },
      "execution_count": null,
      "outputs": [
        {
          "output_type": "stream",
          "name": "stdout",
          "text": [
            "Archive:  ngrok-stable-linux-amd64.zip\n",
            "  inflating: ngrok                   \n"
          ]
        }
      ]
    },
    {
      "cell_type": "code",
      "source": [
        "get_ipython().system_raw('./ngrok http 8501 &')"
      ],
      "metadata": {
        "id": "ZlhDwBNMOCRT"
      },
      "execution_count": null,
      "outputs": []
    },
    {
      "cell_type": "code",
      "source": [
        "!curl -s http://localhost:4040/api/tunnels | python3 -c \\\n",
        "    'import sys, json; print(\"Execute the next cell and the go to the following URL: \" +json.load(sys.stdin)[\"tunnels\"][0][\"public_url\"])'"
      ],
      "metadata": {
        "colab": {
          "base_uri": "https://localhost:8080/"
        },
        "id": "9-RTVZf_OENt",
        "outputId": "bee7c430-918a-43ee-d5c8-b2c4903e06ac"
      },
      "execution_count": null,
      "outputs": [
        {
          "output_type": "stream",
          "name": "stdout",
          "text": [
            "Traceback (most recent call last):\n",
            "  File \"<string>\", line 1, in <module>\n",
            "  File \"/usr/lib/python3.7/json/__init__.py\", line 296, in load\n",
            "    parse_constant=parse_constant, object_pairs_hook=object_pairs_hook, **kw)\n",
            "  File \"/usr/lib/python3.7/json/__init__.py\", line 348, in loads\n",
            "    return _default_decoder.decode(s)\n",
            "  File \"/usr/lib/python3.7/json/decoder.py\", line 337, in decode\n",
            "    obj, end = self.raw_decode(s, idx=_w(s, 0).end())\n",
            "  File \"/usr/lib/python3.7/json/decoder.py\", line 355, in raw_decode\n",
            "    raise JSONDecodeError(\"Expecting value\", s, err.value) from None\n",
            "json.decoder.JSONDecodeError: Expecting value: line 1 column 1 (char 0)\n"
          ]
        }
      ]
    },
    {
      "cell_type": "code",
      "source": [
        "!streamlit run /content/app.py"
      ],
      "metadata": {
        "colab": {
          "base_uri": "https://localhost:8080/"
        },
        "id": "rJH8tzYpOG8T",
        "outputId": "38da76a7-ad53-4580-ab4c-05d1b21b95fc"
      },
      "execution_count": null,
      "outputs": [
        {
          "output_type": "stream",
          "name": "stdout",
          "text": [
            "\n",
            "Collecting usage statistics. To deactivate, set browser.gatherUsageStats to False.\n",
            "\u001b[0m\n",
            "\u001b[0m\n",
            "\u001b[34m\u001b[1m  You can now view your Streamlit app in your browser.\u001b[0m\n",
            "\u001b[0m\n",
            "\u001b[34m  Network URL: \u001b[0m\u001b[1mhttp://172.28.0.2:8502\u001b[0m\n",
            "\u001b[34m  External URL: \u001b[0m\u001b[1mhttp://34.71.212.238:8502\u001b[0m\n",
            "\u001b[0m\n"
          ]
        }
      ]
    },
    {
      "cell_type": "code",
      "source": [],
      "metadata": {
        "id": "k6kPsvGWOPZg"
      },
      "execution_count": null,
      "outputs": []
    }
  ]
}
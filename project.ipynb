{
 "cells": [
  {
   "attachments": {},
   "cell_type": "markdown",
   "metadata": {},
   "source": [
    "For single particular video of mine\n",
    "--This i did to first test the upload of one particular video in my laptop and after it got successful i did it for a series of it too from the excel sheet. And i did for the excel sheet at last as mentioned in the markdown.\n",
    "After first seeing that for one single video it was happening we shifted for excel and follwed the whole process by iterating through each of the entries in list.\n",
    "the first one here is for instagram and at last i did for facebook too."
   ]
  },
  {
   "cell_type": "code",
   "execution_count": null,
   "metadata": {},
   "outputs": [],
   "source": [
    "from selenium import webdriver\n",
    "from selenium.webdriver.common.by import By\n",
    "from selenium.webdriver.support.ui import WebDriverWait\n",
    "from selenium.webdriver.support import expected_conditions as EC\n",
    "import time\n",
    "\n",
    "instagram_email = \"rishimadan014@gmail.com\"\n",
    "instagram_password = \"Qwerty@0000\"\n",
    "\n",
    "video_file_path = 'C:/Users/rishi/Downloads/video.mp4'\n",
    "\n",
    "\n",
    "options = webdriver.ChromeOptions()\n",
    "options.add_argument(\"--disable-notifications\") \n",
    "options.add_argument(\"--disable-infobars\")  \n",
    "options.add_argument(\"--mute-audio\")  \n",
    "browser = webdriver.Chrome(options=options)\n",
    "\n",
    "browser.get('https://www.instagram.com/accounts/login/')\n",
    "\n",
    "wait = WebDriverWait(browser, 10)\n",
    "email_input = wait.until(EC.presence_of_element_located((By.NAME, 'username')))\n",
    "password_input = wait.until(EC.presence_of_element_located((By.NAME, 'password')))\n",
    "email_input.send_keys(instagram_email)\n",
    "password_input.send_keys(instagram_password)\n",
    "\n",
    "login_button = browser.find_element(By.XPATH, '//button[@type=\"submit\"]')\n",
    "login_button.click()\n",
    "\n",
    "time.sleep(5)\n",
    "\n",
    "\n",
    "\n",
    "try:\n",
    "   \n",
    "    save_info_button = wait.until(EC.element_to_be_clickable((By.XPATH, '//button[text()=\"Save Info\"]')))\n",
    "    save_info_button.click()\n",
    "except:\n",
    "    pass  \n",
    "\n",
    "try:\n",
    "   \n",
    "    notification_button = wait.until(EC.element_to_be_clickable((By.XPATH, '//button[text()=\"Not Now\"]')))\n",
    "    notification_button.click()\n",
    "except:\n",
    "    pass  \n",
    "\n",
    "browser.get('https://www.instagram.com/create/collection/')\n",
    "\n",
    "wait.until(EC.title_contains(\"Create\"))\n",
    "\n",
    "upload_input = wait.until(EC.presence_of_element_located((By.XPATH, '//input[@type=\"file\"]')))\n",
    "upload_input.send_keys(video_file_path)\n",
    "\n",
    "time.sleep(20)\n",
    "\n",
    "caption_input = browser.find_element(By.XPATH, '//textarea[@aria-label=\"Write a caption…\"]')\n",
    "caption_input.send_keys('Your video caption here')\n",
    "\n",
    "share_button = browser.find_element(By.XPATH, '//button[@type=\"submit\"]')\n",
    "share_button.click()\n",
    "\n",
    "time.sleep(10)\n",
    "\n",
    "browser.quit()\n"
   ]
  },
  {
   "attachments": {},
   "cell_type": "markdown",
   "metadata": {},
   "source": [
    "Video Performance Optimization with Python"
   ]
  },
  {
   "cell_type": "code",
   "execution_count": 29,
   "metadata": {},
   "outputs": [],
   "source": [
    "import os\n",
    "import google_auth_oauthlib.flow\n",
    "import googleapiclient.discovery\n",
    "import googleapiclient.errors\n",
    "from nltk.tokenize import word_tokenize\n",
    "from nltk.corpus import stopwords\n",
    "from collections import Counter"
   ]
  },
  {
   "cell_type": "code",
   "execution_count": 2,
   "metadata": {},
   "outputs": [],
   "source": [
    "os.environ[\"OAUTHLIB_INSECURE_TRANSPORT\"] = \"1\"\n",
    "api_service_name = \"youtube\"\n",
    "api_version = \"v3\"\n",
    "client_secrets_file = \"client_secret_1009831985819-5fhukk4v9vmhktk5mqegtma49r3qm15o.apps.googleusercontent.com.json\""
   ]
  },
  {
   "cell_type": "code",
   "execution_count": 31,
   "metadata": {},
   "outputs": [
    {
     "name": "stdout",
     "output_type": "stream",
     "text": [
      "Please visit this URL to authorize this application: https://accounts.google.com/o/oauth2/auth?response_type=code&client_id=1009831985819-5fhukk4v9vmhktk5mqegtma49r3qm15o.apps.googleusercontent.com&redirect_uri=http%3A%2F%2Flocalhost%3A61070%2F&scope=https%3A%2F%2Fwww.googleapis.com%2Fauth%2Fyoutube.force-ssl&state=ukMckZCFJfCsVdC9jNqAxqNbWofeyB&access_type=offline\n"
     ]
    }
   ],
   "source": [
    "scopes = [\"https://www.googleapis.com/auth/youtube.force-ssl\"]\n",
    "flow = google_auth_oauthlib.flow.InstalledAppFlow.from_client_secrets_file(\n",
    "    client_secrets_file, scopes\n",
    ")\n",
    "credentials = flow.run_local_server(port=0)\n",
    "youtube = googleapiclient.discovery.build(\n",
    "    api_service_name, api_version, credentials=credentials\n",
    "\n",
    ")\n",
    "def get_video_tags(video_id):\n",
    "    request = youtube.videos().list(\n",
    "        part=\"snippet\",\n",
    "        id=video_id,\n",
    "    )\n",
    "    response = request.execute()\n",
    "\n",
    "    tags = response[\"items\"][0][\"snippet\"][\"tags\"]\n",
    "    return tags\n",
    "\n",
    "def suggest_tag_changes(tags):\n",
    "  \n",
    "    stop_words = set(stopwords.words(\"english\"))\n",
    "    tokenized_tags = [word.lower() for tag in tags for word in word_tokenize(tag) if word.lower() not in stop_words]\n",
    "\n",
    "    word_counts = Counter(tokenized_tags)\n",
    "\n",
    "    new_tags = [word for word, count in word_counts.most_common(10)]\n",
    "\n",
    "    return new_tags\n"
   ]
  },
  {
   "attachments": {},
   "cell_type": "markdown",
   "metadata": {},
   "source": [
    "Social media Management Automation with Python"
   ]
  },
  {
   "cell_type": "code",
   "execution_count": null,
   "metadata": {},
   "outputs": [],
   "source": [
    "from selenium import webdriver\n",
    "from selenium.webdriver.common.by import By\n",
    "from selenium.webdriver.support.ui import WebDriverWait\n",
    "from selenium.webdriver.support import expected_conditions as EC\n",
    "from openpyxl import load_workbook\n",
    "import time"
   ]
  },
  {
   "cell_type": "code",
   "execution_count": 8,
   "metadata": {},
   "outputs": [
    {
     "ename": "NameError",
     "evalue": "name 'directory_path' is not defined",
     "output_type": "error",
     "traceback": [
      "\u001b[1;31m---------------------------------------------------------------------------\u001b[0m",
      "\u001b[1;31mNameError\u001b[0m                                 Traceback (most recent call last)",
      "Cell \u001b[1;32mIn[8], line 30\u001b[0m\n\u001b[0;32m     26\u001b[0m login_button\u001b[39m.\u001b[39mclick()\n\u001b[0;32m     28\u001b[0m time\u001b[39m.\u001b[39msleep(\u001b[39m5\u001b[39m)\n\u001b[1;32m---> 30\u001b[0m \u001b[39mfor\u001b[39;00m title, caption, wait_time,directory_path \u001b[39min\u001b[39;00m \u001b[39mzip\u001b[39m(titles, captions, times, directory_path):\n\u001b[0;32m     31\u001b[0m     browser\u001b[39m.\u001b[39mget(\u001b[39m'\u001b[39m\u001b[39mhttps://www.facebook.com/video/upload/?v=3&ref=wizard\u001b[39m\u001b[39m'\u001b[39m)\n\u001b[0;32m     33\u001b[0m     upload_input \u001b[39m=\u001b[39m wait\u001b[39m.\u001b[39muntil(EC\u001b[39m.\u001b[39mpresence_of_element_located((By\u001b[39m.\u001b[39mXPATH, \u001b[39m'\u001b[39m\u001b[39m//input[@type=\u001b[39m\u001b[39m\"\u001b[39m\u001b[39mfile\u001b[39m\u001b[39m\"\u001b[39m\u001b[39m]\u001b[39m\u001b[39m'\u001b[39m)))\n",
      "\u001b[1;31mNameError\u001b[0m: name 'directory_path' is not defined"
     ]
    }
   ],
   "source": [
    "workbook = load_workbook('post_details.xlsx')\n",
    "sheet = workbook.active\n",
    "titles = [cell.value for cell in sheet['A']]\n",
    "captions = [cell.value for cell in sheet['B']]\n",
    "times = [cell.value for cell in sheet['C']]\n",
    "#video_file_path = 'C:/Users/rishi/Downloads'\n",
    "\n",
    "facebook_email = \"rishimadan014@gmail.com\"\n",
    "facebook_password = \"Qwerty0000\"\n",
    "\n",
    "options = webdriver.ChromeOptions()\n",
    "options.add_argument(\"--disable-notifications\") \n",
    "options.add_argument(\"--disable-infobars\")  \n",
    "options.add_argument(\"--mute-audio\")  \n",
    "browser = webdriver.Chrome(options=options)\n",
    "\n",
    "browser.get('https://www.facebook.com/login.php')\n",
    "\n",
    "wait = WebDriverWait(browser, 10)\n",
    "email_input = wait.until(EC.presence_of_element_located((By.ID, 'email')))\n",
    "password_input = wait.until(EC.presence_of_element_located((By.ID, 'pass')))\n",
    "email_input.send_keys(facebook_email)\n",
    "password_input.send_keys(facebook_password)\n",
    "\n",
    "login_button = browser.find_element(By.XPATH, '//button[@name=\"login\"]')\n",
    "login_button.click()\n",
    "\n",
    "time.sleep(5)\n",
    "\n",
    "for title, caption, wait_time,directory_path in zip(titles, captions, times, directory_path):\n",
    "    browser.get('https://www.facebook.com/video/upload/?v=3&ref=wizard')\n",
    "\n",
    "    upload_input = wait.until(EC.presence_of_element_located((By.XPATH, '//input[@type=\"file\"]')))\n",
    "    upload_input.send_keys(video_file_path)\n",
    "\n",
    "    time.sleep(20)\n",
    "\n",
    "    caption_input = browser.find_element(By.XPATH, '//textarea[@name=\"composer_session_id\"]')\n",
    "    caption_input.send_keys(title + '\\n' + caption)\n",
    "\n",
    "    share_button = browser.find_element(By.XPATH, '//button[@type=\"submit\"]')\n",
    "    share_button.click()\n",
    "\n",
    "    time.sleep(wait_time)\n",
    "\n",
    "browser.quit()"
   ]
  },
  {
   "cell_type": "code",
   "execution_count": null,
   "metadata": {},
   "outputs": [],
   "source": []
  }
 ],
 "metadata": {
  "kernelspec": {
   "display_name": "base",
   "language": "python",
   "name": "python3"
  },
  "language_info": {
   "codemirror_mode": {
    "name": "ipython",
    "version": 3
   },
   "file_extension": ".py",
   "mimetype": "text/x-python",
   "name": "python",
   "nbconvert_exporter": "python",
   "pygments_lexer": "ipython3",
   "version": "3.9.13"
  },
  "orig_nbformat": 4
 },
 "nbformat": 4,
 "nbformat_minor": 2
}
